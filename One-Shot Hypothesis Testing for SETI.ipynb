{
 "cells": [
  {
   "cell_type": "markdown",
   "metadata": {},
   "source": [
    "# SETI as One-Shot Hypothesis Testing Notebook"
   ]
  },
  {
   "cell_type": "markdown",
   "metadata": {},
   "source": [
    "This notebook implements one-shot hypothesis testing between standard observed meteors for meteor burst communications and observed meteors if an ETI was sending a consistent stream of small meteors. This notebook both can be used to reproduce the plots in the paper, but also can be altered out of curiousity."
   ]
  },
  {
   "cell_type": "code",
   "execution_count": 1,
   "metadata": {},
   "outputs": [],
   "source": [
    "import cvxpy as cp\n",
    "import numpy as np\n",
    "import matplotlib.pyplot as plt\n",
    "import math\n",
    "import scipy.io"
   ]
  },
  {
   "cell_type": "markdown",
   "metadata": {},
   "source": [
    "### Definition of $\\zeta^{\\varepsilon}_{H}(P_0 || P_1)$ function"
   ]
  },
  {
   "cell_type": "markdown",
   "metadata": {},
   "source": [
    "First we define the $\\varepsilon$-hypothesis testing SDP, $\\zeta_{H}^{\\varepsilon}(P_0||P_1)$ (Eqn. 3 of the paper). A quantum version is included for completeness, though we only ever use the classical version"
   ]
  },
  {
   "cell_type": "code",
   "execution_count": 2,
   "metadata": {},
   "outputs": [],
   "source": [
    "def varepHypothesisTestingQuantum(ve,null_hyp,alt_hyp):\n",
    "    #First We make some quick checks on the input \n",
    "    #NOTE: To save time, we don't check if the hypothesis are PSD, which they need to be\n",
    "    dim = np.shape(null_hyp)[0]\n",
    "    if dim != np.shape(null_hyp)[1]:\n",
    "        print(\"Error: Please make sure your null hypothesis is square.\")\n",
    "    elif (dim != np.shape(alt_hyp)[0] or dim != np.shape(alt_hyp)[1]):\n",
    "        print(\"Error: Please make sure alternative and null hypotheses have same dimension.\")\n",
    "    elif ve >= 1 or ve <= 0 :\n",
    "        print(\"Error: varepsilon must be strictly between 0 and 1.\")\n",
    "    elif np.trace(null_hyp) < 0 or np.trace(null_hyp) > 1 :\n",
    "        print(\"Error: null_hyp must have trace between 0 and 1 inclusive.\")\n",
    "    elif np.trace(alt_hyp) > 1 :\n",
    "        print(\"Warning: alt_hyp is not a (sub)-normalized density matrix.\")\n",
    "        print(\"Please verify you want to do this by commenting out this elif statement.\")\n",
    "    elif np.trace(alt_hyp) < 0 :\n",
    "        print(\"Error: alt_hyp must have trace greater than 0.\")\n",
    "    else:\n",
    "        #Given that the input seems good, we go ahead with our SDP\n",
    "        #We take the real part of the traces because cvxpy doesn't\n",
    "        #seem to know it will be a real value\n",
    "        A = cp.Variable((dim,dim), hermitian = True)\n",
    "        constraints = [A >> 0]\n",
    "        constraints += [np.identity(dim) >> A]\n",
    "        constraints += [\n",
    "            cp.real(cp.trace(null_hyp @ A)) >= 1 - ve\n",
    "        ]\n",
    "        prob = cp.Problem(cp.Minimize(cp.real(cp.trace(A @ alt_hyp))),\n",
    "                              constraints)\n",
    "        prob.solve()\n",
    "            \n",
    "        return [prob.value, A.value]\n",
    "            \n",
    "        \n",
    "def varepHypothesisTestingClassical(ve,null_hyp,alt_hyp):\n",
    "        #Again we check the input first\n",
    "        dim = len(null_hyp)\n",
    "        if np.shape(null_hyp) != (dim,) or np.shape(alt_hyp) != (dim,):\n",
    "            print(\"Error: Make sure the null and alternative hypotheses are vectors.\")\n",
    "        elif sum(null_hyp) > 1 or sum(alt_hyp) > 1:\n",
    "            print(\"Error: The null and alternative hypotheses must be sub-normalized probability distributions.\")\n",
    "        elif ve >= 1 or ve <= 0 :\n",
    "            print('Error: varepsilon must be strictly between 0 and 1.')\n",
    "        elif np.amin(null_hyp) < 0 or np.amin(alt_hyp) < 0:\n",
    "            print(\"Error: The null and alternative hypotheses must only contain non-negative elements.\")\n",
    "        else:\n",
    "            #Given that the input seems good, we go ahead with our LP\n",
    "            a = cp.Variable(dim, nonneg = True)\n",
    "            constraints = [a <= np.ones(dim)]\n",
    "            constraints += [(null_hyp.T@a) >= 1 - ve]\n",
    "            prob = cp.Problem(cp.Minimize(alt_hyp.T@a),\n",
    "                          constraints)\n",
    "            prob.solve()\n",
    "            \n",
    "            return [prob.value, a.value]"
   ]
  },
  {
   "cell_type": "markdown",
   "metadata": {},
   "source": [
    "This is for testing the functions if you'd like"
   ]
  },
  {
   "cell_type": "code",
   "execution_count": 3,
   "metadata": {},
   "outputs": [
    {
     "name": "stdout",
     "output_type": "stream",
     "text": [
      "WARN: A->p (column pointers) not strictly increasing, column 3 empty\n",
      "WARN: A->p (column pointers) not strictly increasing, column 6 empty\n",
      "WARN: A->p (column pointers) not strictly increasing, column 3 empty\n",
      "WARN: A->p (column pointers) not strictly increasing, column 6 empty\n",
      "[0.6799999999157452, array([1. , 0.6])]\n",
      "[0.6799999999048214, array([[1. +0.j, 0. +0.j],\n",
      "       [0. +0.j, 0.6+0.j]])]\n",
      "[0.1999999997437612, array([[ 0.5+0.j , -0.3+0.4j],\n",
      "       [-0.3-0.4j,  0.5+0.j ]])]\n"
     ]
    }
   ],
   "source": [
    "#These are classical input\n",
    "p0 = np.array([0.75,0.25])\n",
    "p1 = np.array([0.2,0.8])\n",
    "\n",
    "#These are quantum versions of the same classical data\n",
    "rhoCl = np.array([[0.75,0],[0, 0.25]])\n",
    "sigmaCl = np.array([[0.2,0],[0,0.8]])\n",
    "\n",
    "classical = varepHypothesisTestingClassical(0.1,p0,p1)\n",
    "quantumClassical =varepHypothesisTestingQuantum(0.1,rhoCl,sigmaCl)\n",
    "\n",
    "#These are proper quantum states (eigenstates of the pauli X and Y bases)\n",
    "rho = np.array([[0.5, 0.5j],[-0.5j,0.5]])\n",
    "sigma = np.array([[0.5, 0.5],[0.5,0.5]])\n",
    "\n",
    "fullyQuantum = varepHypothesisTestingQuantum(0.1,rho,sigma)\n",
    "\n",
    "print(classical)\n",
    "print(quantumClassical)\n",
    "print(fullyQuantum)"
   ]
  },
  {
   "cell_type": "markdown",
   "metadata": {},
   "source": [
    "### Data Generation"
   ]
  },
  {
   "cell_type": "markdown",
   "metadata": {},
   "source": [
    "We now build the data. As explained in the paper, officially we first find some arbitrarily large value for altering the Poisson distribution, and then we apply a smaller cutoff that either allows the numerics to handle it or just seems sufficient given the tail of our distributions. In this case, the cutoff is just determined by the tail of the distributions.\n",
    "\n",
    "We gather data for two Poison parameters $\\lambda$, three choices of false-positive thresholds $\\varepsilon$, and for small numbers of meteor signals determined by max_ETI_meteors"
   ]
  },
  {
   "cell_type": "code",
   "execution_count": 4,
   "metadata": {},
   "outputs": [],
   "source": [
    "#Function that returns the probability of n outcomes for a Poisson distribution\n",
    "def nProb(n,lam_param):\n",
    "    return (lam_param**n * math.exp(-lam_param))/math.factorial(n)\n",
    "\n",
    "def generateDistributions(cutoff,lam_param,ETI_meteors):\n",
    "    null_hyp = np.zeros(cutoff)\n",
    "    alt_hyp = np.zeros(cutoff)\n",
    "    for i in range(cutoff):\n",
    "        prob_init = nProb(i,lam_param)\n",
    "        null_hyp[i] = prob_init\n",
    "        if i + ETI_meteors <= cutoff-1:\n",
    "            alt_hyp[i+ETI_meteors] = prob_init\n",
    "            \n",
    "    return [null_hyp, alt_hyp]\n",
    "    \n",
    "lam_params = [3,6]               #The Poisson parameter, lambda\n",
    "max_ETI_meteors = 8         #Maximum number of extra meteors per unit interval\n",
    "cutoff = 40                 #Space projected onto (tails are much smaller at this point; see below)\n",
    "ve_vals = [0.1,0.01,0.001]  #\n",
    "\n",
    "data = np.zeros((2,3,max_ETI_meteors+1))\n",
    "for lam_ctr in range(0,2):\n",
    "    for ve_ctr in range(0,3):\n",
    "        for meteor_num in range(0,max_ETI_meteors+1):\n",
    "            [null_hyp, alt_hyp] = generateDistributions(cutoff,lam_params[lam_ctr],meteor_num)\n",
    "            [betan, decision_function] = varepHypothesisTestingClassical(ve_vals[ve_ctr],null_hyp,alt_hyp)\n",
    "            data[lam_ctr,ve_ctr,meteor_num] = betan"
   ]
  },
  {
   "cell_type": "code",
   "execution_count": 5,
   "metadata": {},
   "outputs": [
    {
     "data": {
      "image/png": "[encoded data removed]",
      "text/plain": [
       "<Figure size 432x288 with 1 Axes>"
      ]
     },
     "metadata": {
      "needs_background": "light"
     },
     "output_type": "display_data"
    }
   ],
   "source": [
    "#This just shows you that for the largest lambda and largest number of meteors, \n",
    "#the tail is still suppressed at the cutoff (it also shows the overlap)\n",
    "xaxis= list(range(1, cutoff+1))\n",
    "# plot lines\n",
    "plt.plot(xaxis, null_hyp, label = \"Null Hypothesis\")\n",
    "plt.plot(xaxis, alt_hyp, label = \"Alternative Hypothesis\")\n",
    "plt.legend()\n",
    "plt.show()"
   ]
  },
  {
   "cell_type": "markdown",
   "metadata": {},
   "source": [
    "### Data Plotting"
   ]
  },
  {
   "cell_type": "code",
   "execution_count": 24,
   "metadata": {
    "scrolled": true
   },
   "outputs": [
    {
     "data": {
      "image/png": "[encoded data removed]",
      "text/plain": [
       "<Figure size 244.8x129.6 with 1 Axes>"
      ]
     },
     "metadata": {
      "needs_background": "light"
     },
     "output_type": "display_data"
    }
   ],
   "source": [
    "#For lambda = 3\n",
    "xaxis = range(0,max_ETI_meteors+1)\n",
    "# plot lines\n",
    "#plt.gcf().subplots_adjust(bottom=0.3)\n",
    "plt.rcParams.update({'font.size': 8})\n",
    "plt.figure(figsize=(3.4,1.8)) #3.4252,2.28346666667\n",
    "plt.plot(xaxis, data[0,0], label = r\"$\\varepsilon = 0.1$\")\n",
    "plt.plot(xaxis, data[0,1], label = r\"$\\varepsilon = 0.01$\")\n",
    "plt.plot(xaxis, data[0,2], label = r\"$\\varepsilon = 0.001$\")\n",
    "#plt.title(r\"Probability of Missing ETI Signal with Optimal Decision Function ($\\beta_n$)\" \n",
    "#          \"\\n as a Function of ETI Injected Meteors for Null Hypothesis\" r\"$\\sim$Pois(3)\")\n",
    "plt.ylabel(r'$\\beta_n$ Minimum Error Probability')\n",
    "plt.xlabel('Number of Extra Meteors Over the Unit Time Interval')\n",
    "plt.legend()\n",
    "\n",
    "#If you'd like to save the figure\n",
    "plt.savefig('ETIMeteorsLambda3.png', format='png',bbox_inches='tight', dpi=1200) #\n",
    "\n",
    "plt.show()"
   ]
  },
  {
   "cell_type": "code",
   "execution_count": 25,
   "metadata": {},
   "outputs": [
    {
     "data": {
      "image/png": "[encoded data removed]",
      "text/plain": [
       "<Figure size 244.8x129.6 with 1 Axes>"
      ]
     },
     "metadata": {
      "needs_background": "light"
     },
     "output_type": "display_data"
    }
   ],
   "source": [
    "#For lambda = 6\n",
    "xaxis = range(0,max_ETI_meteors+1)\n",
    "# plot lines\n",
    "plt.rcParams.update({'font.size': 8})\n",
    "plt.figure(figsize=(3.4,1.8)) #3.4252,2.28346666667\n",
    "plt.plot(xaxis, data[1,0], label = r\"$\\varepsilon = 0.1$\")\n",
    "plt.plot(xaxis, data[1,1], label = r\"$\\varepsilon = 0.01$\")\n",
    "plt.plot(xaxis, data[1,2], label = r\"$\\varepsilon = 0.001$\")\n",
    "#plt.title(r\"Probability of Missing ETI Signal with Optimal Decision Function ($\\beta_n$)\" \n",
    "#          \"\\n as a Function of ETI Injected Meteors for Null Hypothesis\" r\"$\\sim$Pois(6)\")\n",
    "plt.ylabel(r'$\\beta_n$ Minimum Error Probability')\n",
    "plt.xlabel('Number of Extra Meteors Over the Unit Time Interval')\n",
    "plt.legend()\n",
    "\n",
    "#If you'd like to save the figure\n",
    "plt.savefig('ETIMeteorsLambda6.png', format='png', bbox_inches='tight', dpi=1200)\n",
    "\n",
    "plt.show()"
   ]
  },
  {
   "cell_type": "code",
   "execution_count": null,
   "metadata": {},
   "outputs": [],
   "source": []
  }
 ],
 "metadata": {
  "kernelspec": {
   "display_name": "Python 3",
   "language": "python",
   "name": "python3"
  },
  "language_info": {
   "codemirror_mode": {
    "name": "ipython",
    "version": 3
   },
   "file_extension": ".py",
   "mimetype": "text/x-python",
   "name": "python",
   "nbconvert_exporter": "python",
   "pygments_lexer": "ipython3",
   "version": "3.8.5"
  }
 },
 "nbformat": 4,
 "nbformat_minor": 4
}
